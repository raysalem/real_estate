{
 "cells": [
  {
   "cell_type": "markdown",
   "metadata": {},
   "source": [
    "# Oppertunity zone analysis\n",
    "\n",
    "\n",
    "## 2. Tax Deferral: \n",
    "The first benefit is the deferral of tax on capital gains that are reinvested into a Qualified Opportunity Zone Fund. The deferred gain is recognized on December 31, 2026 or at the disposal of the Opportunity Zone investment, whichever occurs first.\n",
    "\n",
    "## 2. Reduction of Tax Liability: \n",
    "The second benefit is a step-up in tax basis for capital gains re-invested into an Opportunity Zone Fund. If the investment is held for 5 years or more, the tax basis of the investment is increased by 10%. If the investment is held in the Opportunity Zone Fund for 7 years or more, the tax basis is increased by 15%.\n",
    "\n",
    "## 3 Tax Exclusion: \n",
    "The third and greatest benefit is a permanent exclusion from any tax on the appreciation of the Opportunity Zone investment if the investment is held for at least 10 years.\n",
    "Here the depriciations doesn't have to be recaptured as well.\n",
    "\n",
    "## Refernces\n",
    "\n",
    "[1] https://opzones.ca.gov/\n",
    "[2] https://www.lee-associates.com/sandiegonorth/2019/09/09/all-about-opportunity-zones/\n",
    "[3] https://www.kpbs.org/news/2019/may/29/city-heights-designated-one-thirty-five-opportunit/\n",
    "[4] https://belpointereit.com/blog/opportunity-zones-and-no-depreciation-recapture/"
   ]
  },
  {
   "cell_type": "code",
   "execution_count": 25,
   "metadata": {
    "collapsed": true
   },
   "outputs": [],
   "source": [
    "import pandas as pd\n",
    "import numpy as np"
   ]
  },
  {
   "cell_type": "code",
   "execution_count": null,
   "metadata": {
    "collapsed": false
   },
   "outputs": [],
   "source": []
  },
  {
   "cell_type": "code",
   "execution_count": null,
   "metadata": {
    "collapsed": false
   },
   "outputs": [],
   "source": []
  },
  {
   "cell_type": "code",
   "execution_count": 31,
   "metadata": {
    "collapsed": false
   },
   "outputs": [
    {
     "data": {
      "text/html": [
       "<div>\n",
       "<table border=\"1\" class=\"dataframe\">\n",
       "  <thead>\n",
       "    <tr style=\"text-align: right;\">\n",
       "      <th></th>\n",
       "      <th>Reg</th>\n",
       "      <th>OZ</th>\n",
       "    </tr>\n",
       "  </thead>\n",
       "  <tbody>\n",
       "    <tr>\n",
       "      <th>Pre-tax investment</th>\n",
       "      <td>1000.000000</td>\n",
       "      <td>1000.000000</td>\n",
       "    </tr>\n",
       "    <tr>\n",
       "      <th>Annaul Gain</th>\n",
       "      <td>1.080000</td>\n",
       "      <td>1.050000</td>\n",
       "    </tr>\n",
       "    <tr>\n",
       "      <th>Post-tax Invested</th>\n",
       "      <td>740.000000</td>\n",
       "      <td>1000.000000</td>\n",
       "    </tr>\n",
       "    <tr>\n",
       "      <th>Purchase Price</th>\n",
       "      <td>2960.000000</td>\n",
       "      <td>4000.000000</td>\n",
       "    </tr>\n",
       "    <tr>\n",
       "      <th>Value@YR6</th>\n",
       "      <td>4697.147996</td>\n",
       "      <td>5360.382563</td>\n",
       "    </tr>\n",
       "    <tr>\n",
       "      <th>Cashout refi @YR6</th>\n",
       "      <td>791.429599</td>\n",
       "      <td>872.076513</td>\n",
       "    </tr>\n",
       "    <tr>\n",
       "      <th>Cash on hand @YR6</th>\n",
       "      <td>791.429599</td>\n",
       "      <td>651.076513</td>\n",
       "    </tr>\n",
       "    <tr>\n",
       "      <th>Value@Y10</th>\n",
       "      <td>6390.417992</td>\n",
       "      <td>6515.578507</td>\n",
       "    </tr>\n",
       "    <tr>\n",
       "      <th>Cost Basis@Y10</th>\n",
       "      <td>986.666667</td>\n",
       "      <td>1333.333333</td>\n",
       "    </tr>\n",
       "    <tr>\n",
       "      <th>CapGain sell@Y10</th>\n",
       "      <td>5403.751325</td>\n",
       "      <td>5182.245174</td>\n",
       "    </tr>\n",
       "    <tr>\n",
       "      <th>CapGain Tax@Y10</th>\n",
       "      <td>1080.750265</td>\n",
       "      <td>0.000000</td>\n",
       "    </tr>\n",
       "    <tr>\n",
       "      <th>Money At end@Y10</th>\n",
       "      <td>2103.001060</td>\n",
       "      <td>2182.245174</td>\n",
       "    </tr>\n",
       "  </tbody>\n",
       "</table>\n",
       "</div>"
      ],
      "text/plain": [
       "                            Reg           OZ\n",
       "Pre-tax investment  1000.000000  1000.000000\n",
       "Annaul Gain            1.080000     1.050000\n",
       "Post-tax Invested    740.000000  1000.000000\n",
       "Purchase Price      2960.000000  4000.000000\n",
       "Value@YR6           4697.147996  5360.382563\n",
       "Cashout refi @YR6    791.429599   872.076513\n",
       "Cash on hand @YR6    791.429599   651.076513\n",
       "Value@Y10           6390.417992  6515.578507\n",
       "Cost Basis@Y10       986.666667  1333.333333\n",
       "CapGain sell@Y10    5403.751325  5182.245174\n",
       "CapGain Tax@Y10     1080.750265     0.000000\n",
       "Money At end@Y10    2103.001060  2182.245174"
      ]
     },
     "execution_count": 31,
     "metadata": {},
     "output_type": "execute_result"
    }
   ],
   "source": [
    "LeverageRE = 4 # real estate leverage 25% down \n",
    "Columns = [\"Reg\",\"OZ\"]\n",
    "Returns  = [1.08,1.05]\n",
    "LtvCashOut=80\n",
    "DepreciationPerYear=[5,10,15,20,25,30,35,40,45,50]\n",
    "CapitalGainfedRate=26\n",
    "CapitalGainfedRateAtEnd = [20,0]\n",
    "df = pd.DataFrame(columns=Columns);\n",
    "df.loc[\"Pre-tax investment\",Columns] = [1000,1000]\n",
    "# derived\n",
    "df.loc[\"Annaul Gain\",       Columns]  = Returns\n",
    "df.loc[\"Post-tax Invested\", Columns]  = df.loc[\"Pre-tax investment\",Columns] * (100-np.array([CapitalGainfedRate,0]))/100.\n",
    "df.loc[\"Purchase Price\",    Columns]  = df.loc[\"Post-tax Invested\", Columns] * LeverageRE\n",
    "df.loc[\"Value@YR6\",         Columns]  = df.loc[\"Purchase Price\",    Columns] * np.array(Returns)**6\n",
    "df.loc[\"Cashout refi @YR6\", Columns]  = (df.loc[\"Value@YR6\",         Columns] - df.loc[\"Post-tax Invested\",  Columns] )*(100-LtvCashOut)/100.\n",
    "df.loc[\"Cash on hand @YR6\", Columns]  = df.loc[\"Cashout refi @YR6\", Columns] - df.loc[\"Pre-tax investment\", Columns] * np.array([0,CapitalGainfedRate])/100. *.85\n",
    "df.loc[\"Value@Y10\",         Columns]  = df.loc[\"Purchase Price\",    Columns] * np.array(Returns)**10\n",
    "df.loc[\"Cost Basis@Y10\",    Columns]  = df.loc[\"Purchase Price\",       Columns] * 2/3.*DepreciationPerYear[10-1]/100\n",
    "df.loc[\"CapGain sell@Y10\",  Columns]  = df.loc[\"Value@Y10\",         Columns] - df.loc[\"Cost Basis@Y10\",    Columns] \n",
    "df.loc[\"CapGain Tax@Y10\",  Columns]   = df.loc[\"CapGain sell@Y10\",  Columns] * np.array(CapitalGainfedRateAtEnd)/100\n",
    "df.loc[\"Money At end@Y10\",  Columns]  = df.loc[\"CapGain sell@Y10\",  Columns] - df.loc[\"CapGain Tax@Y10\",  Columns] - (df.loc[\"Purchase Price\",  Columns] * (LeverageRE - 1)/LeverageRE)\n",
    "\n",
    "df"
   ]
  },
  {
   "cell_type": "code",
   "execution_count": 48,
   "metadata": {
    "collapsed": false
   },
   "outputs": [
    {
     "data": {
      "text/plain": [
       "0.5"
      ]
     },
     "execution_count": 48,
     "metadata": {},
     "output_type": "execute_result"
    }
   ],
   "source": [
    "DepreciationPerYear=[5,10,15,20,25,30,35,40,45,50]\n",
    "\n",
    "DepreciationPerYear[10-1]/100"
   ]
  },
  {
   "cell_type": "code",
   "execution_count": null,
   "metadata": {
    "collapsed": true
   },
   "outputs": [],
   "source": []
  },
  {
   "cell_type": "code",
   "execution_count": null,
   "metadata": {
    "collapsed": true
   },
   "outputs": [],
   "source": []
  }
 ],
 "metadata": {
  "kernelspec": {
   "display_name": "Python [default]",
   "language": "python",
   "name": "python3"
  },
  "language_info": {
   "codemirror_mode": {
    "name": "ipython",
    "version": 3
   },
   "file_extension": ".py",
   "mimetype": "text/x-python",
   "name": "python",
   "nbconvert_exporter": "python",
   "pygments_lexer": "ipython3",
   "version": "3.5.2"
  }
 },
 "nbformat": 4,
 "nbformat_minor": 2
}
