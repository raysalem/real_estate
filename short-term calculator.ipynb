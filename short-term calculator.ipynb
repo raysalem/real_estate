{
 "cells": [
  {
   "cell_type": "markdown",
   "metadata": {},
   "source": [
    "Short term rental calculator"
   ]
  },
  {
   "cell_type": "code",
   "execution_count": 17,
   "metadata": {},
   "outputs": [
    {
     "name": "stdout",
     "output_type": "stream",
     "text": [
      "\n",
      "total rent : 245500.0\n",
      "EBITDA     : 162400.0\n",
      "maintenance: 30000.0\n",
      "taxes      : 25000.0\n",
      "insurance  : 4000.0\n",
      "P/E        : 12.31527093596059\n",
      "Down Pay/E : 3.6945812807881775\n",
      "\n"
     ]
    }
   ],
   "source": [
    "purchasePrice = 2e6\n",
    "downPayment   = 30\n",
    "numberUnits   = 2\n",
    "highRent = 800\n",
    "highVac  = 85\n",
    "highDays = 100\n",
    "midRent  = 400\n",
    "midVac   = 75\n",
    "midDays  = 100\n",
    "lowRent  = 200\n",
    "lowVac   = 75\n",
    "lowDays  = 165\n",
    "overhead = 20 # short term rental and marking fee, net of rent\n",
    "\n",
    "\n",
    "taxes       = purchasePrice * 1.25/100.\n",
    "insurance   = purchasePrice * .2/100.\n",
    "maintenance = numberUnits * 5000 + purchasePrice * 1/100.\n",
    "\n",
    "totalRent =   highRent * highVac/ 100. * highDays + midRent * midVac/ 100. * midDays + lowRent * lowVac/ 100. * lowDays\n",
    "totalRent *=  numberUnits\n",
    "income    =   totalRent * (100-overhead)/100. - maintenance - insurance # EBITDA ?\n",
    "\n",
    "\n",
    "ss=\"\"\"\n",
    "total rent : {TR}\n",
    "EBITDA     : {EBITDA}\n",
    "maintenance: {MAIN}\n",
    "taxes      : {TAX}\n",
    "insurance  : {INSR}\n",
    "P/E        : {PE}\n",
    "Down Pay/E : {DPE}\n",
    "\"\"\".format(\n",
    "    TR=totalRent,\n",
    "    EBITDA=income, \n",
    "    MAIN=maintenance ,\n",
    "    TAX=taxes , \n",
    "    INSR=insurance, \n",
    "    PE=purchasePrice/income,  \n",
    "    DPE=(purchasePrice*downPayment/100)/income)\n",
    "print(ss)"
   ]
  },
  {
   "cell_type": "code",
   "execution_count": 8,
   "metadata": {},
   "outputs": [
    {
     "data": {
      "text/plain": [
       "0.0196"
      ]
     },
     "execution_count": 8,
     "metadata": {},
     "output_type": "execute_result"
    }
   ],
   "source": [
    "income/purchasePrice"
   ]
  }
 ],
 "metadata": {
  "kernelspec": {
   "display_name": "Python 3",
   "language": "python",
   "name": "python3"
  },
  "language_info": {
   "codemirror_mode": {
    "name": "ipython",
    "version": 3
   },
   "file_extension": ".py",
   "mimetype": "text/x-python",
   "name": "python",
   "nbconvert_exporter": "python",
   "pygments_lexer": "ipython3",
   "version": "3.7.1"
  }
 },
 "nbformat": 4,
 "nbformat_minor": 2
}
